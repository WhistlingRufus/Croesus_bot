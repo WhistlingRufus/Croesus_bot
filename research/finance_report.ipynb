{
 "cells": [
  {
   "cell_type": "code",
   "execution_count": 6,
   "metadata": {},
   "outputs": [
    {
     "name": "stderr",
     "output_type": "stream",
     "text": [
      "[WDM] - ====== WebDriver manager ======\n",
      "[WDM] - Current edge version is 101.0.1210\n",
      "[WDM] - Get LATEST edgedriver version for 101.0.1210 Edge\n",
      "[WDM] - Driver [C:\\Users\\pugac\\.wdm\\drivers\\edgedriver\\win64\\101.0.1210.47\\msedgedriver.exe] found in cache\n"
     ]
    }
   ],
   "source": [
    "from selenium import webdriver\n",
    "from webdriver_manager.microsoft import EdgeChromiumDriverManager\n",
    "from selenium.webdriver.edge.options import Options\n",
    "from selenium.webdriver.common.by import By\n",
    "from selenium.webdriver.edge.service import Service\n",
    "import time\n",
    "from PIL import Image\n",
    "import os\n",
    "import shutil as sh\n",
    "def get_SPX(browser,period = '1d'):\n",
    "    browser.get('https://finviz.com/map.ashx'+duration_dict_spx[period])\n",
    "    time.sleep(2)\n",
    "    browser.find_element(By.XPATH,'/html/body/div[2]/div/div/div[1]/div[3]/button[2]').click()\n",
    "    time.sleep(2)\n",
    "    img = browser.find_element(By.XPATH,'/html/body/div[9]/div/div/div[2]/div[2]/div/div/div[1]/label/div/textarea').text\n",
    "    browser.get(img)\n",
    "    element =  browser.find_element(By.XPATH,'/html/body/div[2]/div/div/a[1]/img')\n",
    "    location = element.location\n",
    "    size = element.size\n",
    "    browser.save_screenshot(os.path.join('maps','s&p500',f\"sp500_{period}.png\"))\n",
    "    x = location['x']\n",
    "    y = location['y']\n",
    "    width = location['x']+size['width']\n",
    "    height = location['y']+size['height']\n",
    "    im = Image.open(os.path.join('maps','s&p500',f\"sp500_{period}.png\"))\n",
    "    im = im.crop((int(x), int(y), int(width), int(height)))\n",
    "    im.save(os.path.join('maps','s&p500',f\"sp500_{period}.png\"))\n",
    "    return im\n",
    "def get_MOEX(browser,period = '1d'):\n",
    "    browser.get('https://smart-lab.ru/q/map/')\n",
    "    time.sleep(2)\n",
    "    browser.find_element(By.XPATH,duration_dict_moex[period]).click()\n",
    "    time.sleep(2)\n",
    "    element =  browser.find_element(By.XPATH,'//*[@id=\"chart_div_shares\"]')\n",
    "    location = element.location\n",
    "    size = element.size\n",
    "    browser.save_screenshot(os.path.join('maps','moex',f\"moex_{period}.png\"))\n",
    "    # crop image\n",
    "    x = location['x']\n",
    "    y = location['y']\n",
    "    width = location['x']+size['width']\n",
    "    height = location['y']+size['height']\n",
    "    im = Image.open(os.path.join('maps','moex',f\"moex_{period}.png\"))\n",
    "    im = im.crop((int(x), int(y), int(width), int(height)))\n",
    "    im.save(os.path.join('maps','moex',f\"moex_{period}.png\"))\n",
    "    return im\n",
    "\n",
    "duration_dict_spx = {'1d':'',\n",
    "                '1week':'?t=sec&st=w1',\n",
    "                '1month':'?t=sec&st=w4',\n",
    "                '3months':'?t=sec&st=w13',\n",
    "                '6months':'?t=sec&st=w26',\n",
    "                '1year':'?t=sec&st=w52'}\n",
    "duration_dict_moex= {'1d':'/html/body/div[2]/div[2]/span[1]',\n",
    "                '1week':'/html/body/div[2]/div[2]/span[2]',\n",
    "                '1month':'/html/body/div[2]/div[2]/span[3]'}\n",
    "\n",
    "if os.path.exists('maps'):\n",
    "    sh.rmtree('maps')\n",
    "os.mkdir('maps')\n",
    "os.mkdir('maps\\s&p500')\n",
    "os.mkdir('maps\\moex')\n",
    "# Initiate the browser\n",
    "browser_options = Options()\n",
    "browser = webdriver.Edge(service=Service(EdgeChromiumDriverManager().install()),options=browser_options)\n",
    "browser.set_window_size(1920,1280)\n",
    "for period in duration_dict_spx.keys():\n",
    "    get_SPX(browser=browser,period=period)\n",
    "for period in duration_dict_moex.keys():\n",
    "    get_MOEX(browser=browser,period=period)\n",
    "browser.quit()"
   ]
  },
  {
   "cell_type": "code",
   "execution_count": 7,
   "metadata": {},
   "outputs": [
    {
     "name": "stdout",
     "output_type": "stream",
     "text": [
      "Today is: 01.07.2005\n",
      "запрос на информацию по месяцам  1month\n",
      "запрос на информацию по кварталам  3months\n",
      "запрос на информацию по полугодию  6months\n"
     ]
    }
   ],
   "source": [
    "from datetime import datetime\n",
    "\n",
    "curr_date = datetime.now()\n",
    "curr_date = datetime.strptime('Jul 1 2005  1:33PM', '%b %d %Y %I:%M%p')\n",
    "print('Today is:', curr_date.strftime('%d.%m.%Y'))\n",
    "if curr_date.day == 1:\n",
    "    print('запрос на информацию по месяцам ', list(duration_dict_spx.keys())[2])\n",
    "    #get_SPX(browser=browser,period=duration_dict_spx.keys[2])\n",
    "    #get_MOEX(browser=browser,period=duration_dict_moex.keys[2])\n",
    "    if curr_date.month == 4 or curr_date.month == 7 or curr_date.month == 10 or curr_date.month == 1:\n",
    "        print('запрос на информацию по кварталам ',list(duration_dict_spx.keys())[3])\n",
    "        #get_SPX(browser=browser,period=duration_dict_spx.keys[3])\n",
    "    if curr_date.month == 7:\n",
    "        print('запрос на информацию по полугодию ',list(duration_dict_spx.keys())[4])\n",
    "        #get_SPX(browser=browser,period=duration_dict_spx.ke ys[4])\n",
    "    if curr_date.month == 1:\n",
    "        print('запрос на информацию по году ',list(duration_dict_spx.keys())[-1])\n",
    "        get_SPX(browser=browser,period=duration_dict_spx.keys[-1])"
   ]
  },
  {
   "cell_type": "code",
   "execution_count": 5,
   "metadata": {},
   "outputs": [
    {
     "data": {
      "text/plain": [
       "7"
      ]
     },
     "execution_count": 5,
     "metadata": {},
     "output_type": "execute_result"
    }
   ],
   "source": [
    "import datetime as dt\n",
    "curr_date = dt.datetime.now()\n",
    "curr_date = dt.datetime.strptime('Jul 1 2005  1:33AM', '%b %d %Y %I:%M%p')\n",
    "curr_date.month\n"
   ]
  },
  {
   "cell_type": "code",
   "execution_count": 12,
   "metadata": {},
   "outputs": [
    {
     "name": "stdout",
     "output_type": "stream",
     "text": [
      "ddd 12222'\n"
     ]
    }
   ],
   "source": [
    "def f(*args):\n",
    "    print('ddd', ''.join([str(i) for i in args]))\n",
    "\n",
    "f(1,2,\"222'\")"
   ]
  },
  {
   "cell_type": "code",
   "execution_count": null,
   "metadata": {},
   "outputs": [],
   "source": [
    "\n",
    "from selenium import webdriver \n",
    "from selenium.webdriver.chrome.options import Options\n",
    "from selenium.webdriver.chrome.service import Service\n",
    "from webdriver_manager.chrome import ChromeDriverManager\n",
    "\n",
    "chrome_options = Options()\n",
    "#chrome_options.add_argument(\"--disable-extensions\")\n",
    "#chrome_options.add_argument(\"--disable-gpu\")\n",
    "#chrome_options.add_argument(\"--no-sandbox\") # linux only\n",
    "chrome_options.add_argument(\"--headless\")\n",
    "# chrome_options.headless = True # also works\n",
    "service = Service(executable_path=ChromeDriverManager().install())\n",
    "#executable_path=\"C:\\\\Users\\\\pugac\\\\.wdm\\\\drivers\\\\chromedriver\\\\win32\\\\102.0.5005.61\\\\chromedriver.exe\",\n",
    "driver = webdriver.Chrome(service = service\n",
    "                                ,options=chrome_options)\n",
    "start_url = \"https://duckgo.com\"\n",
    "driver.get(start_url)\n",
    "print(driver.page_source.encode(\"utf-8\"))\n",
    "# b'<!DOCTYPE html><html xmlns=\"http://www....\n",
    "driver.quit()\n"
   ]
  },
  {
   "cell_type": "code",
   "execution_count": 1,
   "metadata": {},
   "outputs": [
    {
     "ename": "ModuleNotFoundError",
     "evalue": "No module named 'yaml'",
     "output_type": "error",
     "traceback": [
      "\u001b[0;31m---------------------------------------------------------------------------\u001b[0m",
      "\u001b[0;31mModuleNotFoundError\u001b[0m                       Traceback (most recent call last)",
      "\u001b[0;32m<ipython-input-1-e328fc547c2a>\u001b[0m in \u001b[0;36m<module>\u001b[0;34m()\u001b[0m\n\u001b[0;32m----> 1\u001b[0;31m \u001b[0;32mimport\u001b[0m \u001b[0myaml\u001b[0m\u001b[0;34m\u001b[0m\u001b[0;34m\u001b[0m\u001b[0m\n\u001b[0m\u001b[1;32m      2\u001b[0m \u001b[0;34m\u001b[0m\u001b[0m\n\u001b[1;32m      3\u001b[0m \u001b[0;32mwith\u001b[0m \u001b[0mopen\u001b[0m\u001b[0;34m(\u001b[0m\u001b[0;34m\"test.yaml\"\u001b[0m\u001b[0;34m,\u001b[0m \u001b[0;34m\"r\"\u001b[0m\u001b[0;34m)\u001b[0m \u001b[0;32mas\u001b[0m \u001b[0mstream\u001b[0m\u001b[0;34m:\u001b[0m\u001b[0;34m\u001b[0m\u001b[0;34m\u001b[0m\u001b[0m\n\u001b[1;32m      4\u001b[0m     \u001b[0;32mtry\u001b[0m\u001b[0;34m:\u001b[0m\u001b[0;34m\u001b[0m\u001b[0;34m\u001b[0m\u001b[0m\n\u001b[1;32m      5\u001b[0m         \u001b[0mprint\u001b[0m\u001b[0;34m(\u001b[0m\u001b[0myaml\u001b[0m\u001b[0;34m.\u001b[0m\u001b[0msafe_load\u001b[0m\u001b[0;34m(\u001b[0m\u001b[0mstream\u001b[0m\u001b[0;34m)\u001b[0m\u001b[0;34m)\u001b[0m\u001b[0;34m\u001b[0m\u001b[0;34m\u001b[0m\u001b[0m\n",
      "\u001b[0;31mModuleNotFoundError\u001b[0m: No module named 'yaml'"
     ]
    }
   ],
   "source": [
    "import yaml\n",
    "\n",
    "with open(\"test.yaml\", \"r\") as stream:\n",
    "    try:\n",
    "        print(yaml.safe_load(stream))\n",
    "    except yaml.YAMLError as exc:\n",
    "        print(exc)"
   ]
  },
  {
   "cell_type": "code",
   "execution_count": null,
   "metadata": {},
   "outputs": [],
   "source": []
  }
 ],
 "metadata": {
  "interpreter": {
   "hash": "cc9b6a6146a174b01ca1a3c79a0de3bec951e1f48156856de098ada4cd529906"
  },
  "kernelspec": {
   "display_name": "Python 3",
   "language": "python",
   "name": "python3"
  },
  "language_info": {
   "codemirror_mode": {
    "name": "ipython",
    "version": 3
   },
   "file_extension": ".py",
   "mimetype": "text/x-python",
   "name": "python",
   "nbconvert_exporter": "python",
   "pygments_lexer": "ipython3",
   "version": "3.7.3"
  },
  "orig_nbformat": 4
 },
 "nbformat": 4,
 "nbformat_minor": 2
}
